{
 "cells": [
  {
   "cell_type": "markdown",
   "metadata": {},
   "source": [
    "# Intro to dataframes, functions, control flow\n",
    "\n",
    "[Anaconda Install](https://www.anaconda.com/download/success)\n",
    "\n",
    "# Contents:\n",
    "1. Dataframes \n",
    "2. Importing a csv file into a dataframe \n",
    "3. Working with dataframes"
   ]
  },
  {
   "cell_type": "markdown",
   "metadata": {},
   "source": [
    "# Part 1: Dataframes\n",
    "\n",
    "In python we store tables (the fundamental object in data science) in what are called dataframes. Formally, a dataframe is a dictionary of arrays. We need to import a package called \"pandas\" in order to construct dataframes. Pandas is a data science package that we will use a lot in this course.\n",
    "\n",
    "[Pandas Documentation](https://pandas.pydata.org/docs/)"
   ]
  },
  {
   "cell_type": "code",
   "execution_count": 1,
   "metadata": {},
   "outputs": [],
   "source": [
    "import pandas as pd"
   ]
  },
  {
   "cell_type": "markdown",
   "metadata": {},
   "source": [
    "First let us create a dictionary of lists and see how we use it to construct a pandas dataframe. (Typically you will just import an existing csv file into a dataframe, but you can also add rows or observations manually, this provides some insight into the structure of dataframes. Notice how similar a dataframe is to a table in a database)."
   ]
  },
  {
   "cell_type": "code",
   "execution_count": 3,
   "metadata": {},
   "outputs": [
    {
     "data": {
      "text/html": [
       "<div>\n",
       "<style scoped>\n",
       "    .dataframe tbody tr th:only-of-type {\n",
       "        vertical-align: middle;\n",
       "    }\n",
       "\n",
       "    .dataframe tbody tr th {\n",
       "        vertical-align: top;\n",
       "    }\n",
       "\n",
       "    .dataframe thead th {\n",
       "        text-align: right;\n",
       "    }\n",
       "</style>\n",
       "<table border=\"1\" class=\"dataframe\">\n",
       "  <thead>\n",
       "    <tr style=\"text-align: right;\">\n",
       "      <th></th>\n",
       "      <th>name</th>\n",
       "      <th>age</th>\n",
       "    </tr>\n",
       "  </thead>\n",
       "  <tbody>\n",
       "    <tr>\n",
       "      <th>0</th>\n",
       "      <td>John</td>\n",
       "      <td>45</td>\n",
       "    </tr>\n",
       "    <tr>\n",
       "      <th>1</th>\n",
       "      <td>James</td>\n",
       "      <td>28</td>\n",
       "    </tr>\n",
       "    <tr>\n",
       "      <th>2</th>\n",
       "      <td>Jack</td>\n",
       "      <td>18</td>\n",
       "    </tr>\n",
       "  </tbody>\n",
       "</table>\n",
       "</div>"
      ],
      "text/plain": [
       "    name  age\n",
       "0   John   45\n",
       "1  James   28\n",
       "2   Jack   18"
      ]
     },
     "execution_count": 3,
     "metadata": {},
     "output_type": "execute_result"
    }
   ],
   "source": [
    "person = {'name': ['John', 'James', 'Jack'], 'age': [45, 28, 18]}\n",
    "\n",
    "person_df = pd.DataFrame.from_dict(person) \n",
    "\n",
    "person_df"
   ]
  },
  {
   "cell_type": "markdown",
   "metadata": {},
   "source": [
    "We can access column of the dataframe just as we would the entry of a dictionary:"
   ]
  },
  {
   "cell_type": "code",
   "execution_count": 6,
   "metadata": {},
   "outputs": [
    {
     "data": {
      "text/plain": [
       "str"
      ]
     },
     "execution_count": 6,
     "metadata": {},
     "output_type": "execute_result"
    }
   ],
   "source": [
    "person_df['name'].astype(str) \n",
    "type(person_df['name'].loc[0])"
   ]
  },
  {
   "cell_type": "markdown",
   "metadata": {},
   "source": [
    "It is straightforward to add columns to a dataframe with similar code. For instance, we can add a column called location."
   ]
  },
  {
   "cell_type": "code",
   "execution_count": 7,
   "metadata": {},
   "outputs": [
    {
     "data": {
      "text/html": [
       "<div>\n",
       "<style scoped>\n",
       "    .dataframe tbody tr th:only-of-type {\n",
       "        vertical-align: middle;\n",
       "    }\n",
       "\n",
       "    .dataframe tbody tr th {\n",
       "        vertical-align: top;\n",
       "    }\n",
       "\n",
       "    .dataframe thead th {\n",
       "        text-align: right;\n",
       "    }\n",
       "</style>\n",
       "<table border=\"1\" class=\"dataframe\">\n",
       "  <thead>\n",
       "    <tr style=\"text-align: right;\">\n",
       "      <th></th>\n",
       "      <th>name</th>\n",
       "      <th>age</th>\n",
       "      <th>location</th>\n",
       "    </tr>\n",
       "  </thead>\n",
       "  <tbody>\n",
       "    <tr>\n",
       "      <th>0</th>\n",
       "      <td>John</td>\n",
       "      <td>45</td>\n",
       "      <td>Pittsburgh</td>\n",
       "    </tr>\n",
       "    <tr>\n",
       "      <th>1</th>\n",
       "      <td>James</td>\n",
       "      <td>28</td>\n",
       "      <td>Pittsburgh</td>\n",
       "    </tr>\n",
       "    <tr>\n",
       "      <th>2</th>\n",
       "      <td>Jack</td>\n",
       "      <td>18</td>\n",
       "      <td>Philadelphia</td>\n",
       "    </tr>\n",
       "  </tbody>\n",
       "</table>\n",
       "</div>"
      ],
      "text/plain": [
       "    name  age      location\n",
       "0   John   45    Pittsburgh\n",
       "1  James   28    Pittsburgh\n",
       "2   Jack   18  Philadelphia"
      ]
     },
     "execution_count": 7,
     "metadata": {},
     "output_type": "execute_result"
    }
   ],
   "source": [
    "person_df['location'] = ['Pittsburgh', 'Pittsburgh', 'Philadelphia'] \n",
    "\n",
    "person_df"
   ]
  },
  {
   "cell_type": "markdown",
   "metadata": {},
   "source": [
    "# Part 2: Importing csv files into a dataframe \n",
    "First you must upload the csv file into the folder that your Jupyter notebook is in. You can do this by: \n",
    "- Clicking on the juyper icon in the top left corner of this page\n",
    "- Then clicking on the upload button in the top right corner of the page you and on \n",
    "\n",
    "Go ahead and upload the \"twitter.csv\" file posted on canvas so that we can import it. We import the twitter csv file into a dataframe called twitter with the following code. "
   ]
  },
  {
   "cell_type": "code",
   "execution_count": 3,
   "metadata": {},
   "outputs": [
    {
     "data": {
      "text/plain": [
       "array(['katyperry', 'justinbieber', 'taylorswift13', 'BarackObama',\n",
       "       'rihanna', 'YouTube', 'ladygaga', 'TheEllenShow', 'Twitter',\n",
       "       'jtimberlake', 'KimKardashian', 'britneyspears', 'Cristiano',\n",
       "       'selenagomez', 'cnnbrk', 'jimmyfallon', 'ArianaGrande', 'shakira',\n",
       "       'instagram', 'ddlovato'], dtype=object)"
      ]
     },
     "execution_count": 3,
     "metadata": {},
     "output_type": "execute_result"
    }
   ],
   "source": [
    "twitter = pd.read_csv(\"twitter.csv\")\n",
    "\n",
    "twitter['author'].unique()"
   ]
  },
  {
   "cell_type": "markdown",
   "metadata": {},
   "source": [
    "We see that the table has 52542 observations and 10 variables. It is always a good idea to take a quick look at the data see what we are working with/if it makes sense. The following command provides summary statistics for each variable, which are often helpful for this purpose. "
   ]
  },
  {
   "cell_type": "code",
   "execution_count": 60,
   "metadata": {},
   "outputs": [
    {
     "data": {
      "text/html": [
       "<div>\n",
       "<style scoped>\n",
       "    .dataframe tbody tr th:only-of-type {\n",
       "        vertical-align: middle;\n",
       "    }\n",
       "\n",
       "    .dataframe tbody tr th {\n",
       "        vertical-align: top;\n",
       "    }\n",
       "\n",
       "    .dataframe thead th {\n",
       "        text-align: right;\n",
       "    }\n",
       "</style>\n",
       "<table border=\"1\" class=\"dataframe\">\n",
       "  <thead>\n",
       "    <tr style=\"text-align: right;\">\n",
       "      <th></th>\n",
       "      <th>id</th>\n",
       "      <th>latitude</th>\n",
       "      <th>longitude</th>\n",
       "      <th>number_of_likes</th>\n",
       "      <th>number_of_shares</th>\n",
       "    </tr>\n",
       "  </thead>\n",
       "  <tbody>\n",
       "    <tr>\n",
       "      <th>count</th>\n",
       "      <td>5.254200e+04</td>\n",
       "      <td>1.000000</td>\n",
       "      <td>1.000000</td>\n",
       "      <td>52542.000000</td>\n",
       "      <td>52542.000000</td>\n",
       "    </tr>\n",
       "    <tr>\n",
       "      <th>mean</th>\n",
       "      <td>5.741141e+17</td>\n",
       "      <td>37.776973</td>\n",
       "      <td>-122.416523</td>\n",
       "      <td>9637.838339</td>\n",
       "      <td>5386.880857</td>\n",
       "    </tr>\n",
       "    <tr>\n",
       "      <th>std</th>\n",
       "      <td>2.009723e+17</td>\n",
       "      <td>NaN</td>\n",
       "      <td>NaN</td>\n",
       "      <td>18759.083482</td>\n",
       "      <td>11517.259484</td>\n",
       "    </tr>\n",
       "    <tr>\n",
       "      <th>min</th>\n",
       "      <td>6.789717e+09</td>\n",
       "      <td>37.776973</td>\n",
       "      <td>-122.416523</td>\n",
       "      <td>0.000000</td>\n",
       "      <td>0.000000</td>\n",
       "    </tr>\n",
       "    <tr>\n",
       "      <th>25%</th>\n",
       "      <td>4.485852e+17</td>\n",
       "      <td>37.776973</td>\n",
       "      <td>-122.416523</td>\n",
       "      <td>916.000000</td>\n",
       "      <td>378.000000</td>\n",
       "    </tr>\n",
       "    <tr>\n",
       "      <th>50%</th>\n",
       "      <td>6.337935e+17</td>\n",
       "      <td>37.776973</td>\n",
       "      <td>-122.416523</td>\n",
       "      <td>2595.500000</td>\n",
       "      <td>1266.000000</td>\n",
       "    </tr>\n",
       "    <tr>\n",
       "      <th>75%</th>\n",
       "      <td>7.336588e+17</td>\n",
       "      <td>37.776973</td>\n",
       "      <td>-122.416523</td>\n",
       "      <td>10300.750000</td>\n",
       "      <td>5205.000000</td>\n",
       "    </tr>\n",
       "    <tr>\n",
       "      <th>max</th>\n",
       "      <td>8.237200e+17</td>\n",
       "      <td>37.776973</td>\n",
       "      <td>-122.416523</td>\n",
       "      <td>429159.000000</td>\n",
       "      <td>219062.000000</td>\n",
       "    </tr>\n",
       "  </tbody>\n",
       "</table>\n",
       "</div>"
      ],
      "text/plain": [
       "                 id   latitude   longitude  number_of_likes  number_of_shares\n",
       "count  5.254200e+04   1.000000    1.000000     52542.000000      52542.000000\n",
       "mean   5.741141e+17  37.776973 -122.416523      9637.838339       5386.880857\n",
       "std    2.009723e+17        NaN         NaN     18759.083482      11517.259484\n",
       "min    6.789717e+09  37.776973 -122.416523         0.000000          0.000000\n",
       "25%    4.485852e+17  37.776973 -122.416523       916.000000        378.000000\n",
       "50%    6.337935e+17  37.776973 -122.416523      2595.500000       1266.000000\n",
       "75%    7.336588e+17  37.776973 -122.416523     10300.750000       5205.000000\n",
       "max    8.237200e+17  37.776973 -122.416523    429159.000000     219062.000000"
      ]
     },
     "execution_count": 60,
     "metadata": {},
     "output_type": "execute_result"
    }
   ],
   "source": [
    "twitter.describe()"
   ]
  },
  {
   "cell_type": "markdown",
   "metadata": {},
   "source": [
    "# Part 3: Working with dataframes\n",
    "1. Checking/changing variables types \n",
    "2. Creating new variables \n",
    "\n",
    "Recall that raw data is messy, and it is usually not in the format we would like. Consider the variable date_time: "
   ]
  },
  {
   "cell_type": "code",
   "execution_count": 113,
   "metadata": {},
   "outputs": [
    {
     "data": {
      "text/plain": [
       "0        12/01/2017 19:52\n",
       "1        11/01/2017 08:38\n",
       "2        11/01/2017 02:52\n",
       "3        11/01/2017 02:44\n",
       "4        10/01/2017 05:22\n",
       "               ...       \n",
       "52537    06/01/2015 23:10\n",
       "52538    06/01/2015 02:17\n",
       "52539    05/01/2015 03:42\n",
       "52540    05/01/2015 00:06\n",
       "52541    05/01/2015 00:02\n",
       "Name: date_time, Length: 52542, dtype: object"
      ]
     },
     "execution_count": 113,
     "metadata": {},
     "output_type": "execute_result"
    }
   ],
   "source": [
    "twitter['date_time']"
   ]
  },
  {
   "cell_type": "markdown",
   "metadata": {},
   "source": [
    "It is being read as an \"object\" that contains the date and time the tweet was posted. The object variable type is a generic type that Python assigns to variables when it does not know what they are. Python actually has a date variable type, so let's convert it to that. "
   ]
  },
  {
   "cell_type": "code",
   "execution_count": 118,
   "metadata": {},
   "outputs": [],
   "source": [
    "twitter['date_time'] = pd.to_datetime(twitter['date_time'])"
   ]
  },
  {
   "cell_type": "code",
   "execution_count": 115,
   "metadata": {},
   "outputs": [
    {
     "data": {
      "text/plain": [
       "0       2017-12-01 19:52:00\n",
       "1       2017-11-01 08:38:00\n",
       "2       2017-11-01 02:52:00\n",
       "3       2017-11-01 02:44:00\n",
       "4       2017-10-01 05:22:00\n",
       "                ...        \n",
       "52537   2015-06-01 23:10:00\n",
       "52538   2015-06-01 02:17:00\n",
       "52539   2015-05-01 03:42:00\n",
       "52540   2015-05-01 00:06:00\n",
       "52541   2015-05-01 00:02:00\n",
       "Name: date_time, Length: 52542, dtype: datetime64[ns]"
      ]
     },
     "execution_count": 115,
     "metadata": {},
     "output_type": "execute_result"
    }
   ],
   "source": [
    "twitter['date_time']"
   ]
  },
  {
   "cell_type": "markdown",
   "metadata": {},
   "source": [
    "Great, we see that it is being treated as a date variable now. Often we also want to convert object variables to categorical variables. You will do this in lab this week. \n",
    "\n",
    "Note that you can check the types of all of the varibles with the code:"
   ]
  },
  {
   "cell_type": "code",
   "execution_count": 123,
   "metadata": {},
   "outputs": [
    {
     "data": {
      "text/plain": [
       "author                        object\n",
       "content                       object\n",
       "country                       object\n",
       "date_time             datetime64[ns]\n",
       "id                           float64\n",
       "language                      object\n",
       "latitude                     float64\n",
       "longitude                    float64\n",
       "number_of_likes                int64\n",
       "number_of_shares               int64\n",
       "likes_divby_shares           float64\n",
       "dtype: object"
      ]
     },
     "execution_count": 123,
     "metadata": {},
     "output_type": "execute_result"
    }
   ],
   "source": [
    "twitter.dtypes"
   ]
  },
  {
   "cell_type": "markdown",
   "metadata": {},
   "source": [
    "We can create new variables from old variables from what we already know: "
   ]
  },
  {
   "cell_type": "code",
   "execution_count": 124,
   "metadata": {},
   "outputs": [],
   "source": [
    "twitter['likes_divby_shares'] = twitter['number_of_likes']/twitter['number_of_shares']"
   ]
  },
  {
   "cell_type": "markdown",
   "metadata": {},
   "source": [
    "We have created a new variable likes_divby_shares that equals the  number times each tweet is liked divided by the number of times each tweet is shared. Because number_of_likes and number_of_shares are arrays (of the appropriate type), we can use vector operations to create a new column. Let's take a look:"
   ]
  },
  {
   "cell_type": "code",
   "execution_count": 125,
   "metadata": {
    "scrolled": true
   },
   "outputs": [
    {
     "data": {
      "text/html": [
       "<div>\n",
       "<style scoped>\n",
       "    .dataframe tbody tr th:only-of-type {\n",
       "        vertical-align: middle;\n",
       "    }\n",
       "\n",
       "    .dataframe tbody tr th {\n",
       "        vertical-align: top;\n",
       "    }\n",
       "\n",
       "    .dataframe thead th {\n",
       "        text-align: right;\n",
       "    }\n",
       "</style>\n",
       "<table border=\"1\" class=\"dataframe\">\n",
       "  <thead>\n",
       "    <tr style=\"text-align: right;\">\n",
       "      <th></th>\n",
       "      <th>author</th>\n",
       "      <th>content</th>\n",
       "      <th>country</th>\n",
       "      <th>date_time</th>\n",
       "      <th>id</th>\n",
       "      <th>language</th>\n",
       "      <th>latitude</th>\n",
       "      <th>longitude</th>\n",
       "      <th>number_of_likes</th>\n",
       "      <th>number_of_shares</th>\n",
       "      <th>likes_divby_shares</th>\n",
       "    </tr>\n",
       "  </thead>\n",
       "  <tbody>\n",
       "    <tr>\n",
       "      <th>0</th>\n",
       "      <td>katyperry</td>\n",
       "      <td>Is history repeating itself...?#DONTNORMALIZEH...</td>\n",
       "      <td>NaN</td>\n",
       "      <td>2017-12-01 19:52:00</td>\n",
       "      <td>8.196330e+17</td>\n",
       "      <td>en</td>\n",
       "      <td>NaN</td>\n",
       "      <td>NaN</td>\n",
       "      <td>7900</td>\n",
       "      <td>3472</td>\n",
       "      <td>2.275346</td>\n",
       "    </tr>\n",
       "    <tr>\n",
       "      <th>1</th>\n",
       "      <td>katyperry</td>\n",
       "      <td>@barackobama Thank you for your incredible gra...</td>\n",
       "      <td>NaN</td>\n",
       "      <td>2017-11-01 08:38:00</td>\n",
       "      <td>8.191010e+17</td>\n",
       "      <td>en</td>\n",
       "      <td>NaN</td>\n",
       "      <td>NaN</td>\n",
       "      <td>3689</td>\n",
       "      <td>1380</td>\n",
       "      <td>2.673188</td>\n",
       "    </tr>\n",
       "    <tr>\n",
       "      <th>2</th>\n",
       "      <td>katyperry</td>\n",
       "      <td>Life goals. https://t.co/XIn1qKMKQl</td>\n",
       "      <td>NaN</td>\n",
       "      <td>2017-11-01 02:52:00</td>\n",
       "      <td>8.190140e+17</td>\n",
       "      <td>en</td>\n",
       "      <td>NaN</td>\n",
       "      <td>NaN</td>\n",
       "      <td>10341</td>\n",
       "      <td>2387</td>\n",
       "      <td>4.332216</td>\n",
       "    </tr>\n",
       "    <tr>\n",
       "      <th>3</th>\n",
       "      <td>katyperry</td>\n",
       "      <td>Me right now 🙏🏻 https://t.co/gW55C1wrwd</td>\n",
       "      <td>NaN</td>\n",
       "      <td>2017-11-01 02:44:00</td>\n",
       "      <td>8.190120e+17</td>\n",
       "      <td>en</td>\n",
       "      <td>NaN</td>\n",
       "      <td>NaN</td>\n",
       "      <td>10774</td>\n",
       "      <td>2458</td>\n",
       "      <td>4.383238</td>\n",
       "    </tr>\n",
       "    <tr>\n",
       "      <th>4</th>\n",
       "      <td>katyperry</td>\n",
       "      <td>SISTERS ARE DOIN' IT FOR THEMSELVES! 🙌🏻💪🏻❤️ ht...</td>\n",
       "      <td>NaN</td>\n",
       "      <td>2017-10-01 05:22:00</td>\n",
       "      <td>8.186890e+17</td>\n",
       "      <td>en</td>\n",
       "      <td>NaN</td>\n",
       "      <td>NaN</td>\n",
       "      <td>17620</td>\n",
       "      <td>4655</td>\n",
       "      <td>3.785177</td>\n",
       "    </tr>\n",
       "    <tr>\n",
       "      <th>...</th>\n",
       "      <td>...</td>\n",
       "      <td>...</td>\n",
       "      <td>...</td>\n",
       "      <td>...</td>\n",
       "      <td>...</td>\n",
       "      <td>...</td>\n",
       "      <td>...</td>\n",
       "      <td>...</td>\n",
       "      <td>...</td>\n",
       "      <td>...</td>\n",
       "      <td>...</td>\n",
       "    </tr>\n",
       "    <tr>\n",
       "      <th>52537</th>\n",
       "      <td>ddlovato</td>\n",
       "      <td>Life couldn't be better right now. 😊</td>\n",
       "      <td>NaN</td>\n",
       "      <td>2015-06-01 23:10:00</td>\n",
       "      <td>5.526030e+17</td>\n",
       "      <td>en</td>\n",
       "      <td>NaN</td>\n",
       "      <td>NaN</td>\n",
       "      <td>32799</td>\n",
       "      <td>23796</td>\n",
       "      <td>1.378341</td>\n",
       "    </tr>\n",
       "    <tr>\n",
       "      <th>52538</th>\n",
       "      <td>ddlovato</td>\n",
       "      <td>First Monday back in action. I'd say 21.6 mile...</td>\n",
       "      <td>NaN</td>\n",
       "      <td>2015-06-01 02:17:00</td>\n",
       "      <td>5.522880e+17</td>\n",
       "      <td>en</td>\n",
       "      <td>NaN</td>\n",
       "      <td>NaN</td>\n",
       "      <td>21709</td>\n",
       "      <td>12511</td>\n",
       "      <td>1.735193</td>\n",
       "    </tr>\n",
       "    <tr>\n",
       "      <th>52539</th>\n",
       "      <td>ddlovato</td>\n",
       "      <td>Crime shows, buddy, snuggles = the perfect Sun...</td>\n",
       "      <td>NaN</td>\n",
       "      <td>2015-05-01 03:42:00</td>\n",
       "      <td>5.519470e+17</td>\n",
       "      <td>en</td>\n",
       "      <td>NaN</td>\n",
       "      <td>NaN</td>\n",
       "      <td>25269</td>\n",
       "      <td>15583</td>\n",
       "      <td>1.621575</td>\n",
       "    </tr>\n",
       "    <tr>\n",
       "      <th>52540</th>\n",
       "      <td>ddlovato</td>\n",
       "      <td>❄️ http://t.co/sHCFdPpGPa</td>\n",
       "      <td>NaN</td>\n",
       "      <td>2015-05-01 00:06:00</td>\n",
       "      <td>5.518920e+17</td>\n",
       "      <td>und</td>\n",
       "      <td>NaN</td>\n",
       "      <td>NaN</td>\n",
       "      <td>15985</td>\n",
       "      <td>10456</td>\n",
       "      <td>1.528787</td>\n",
       "    </tr>\n",
       "    <tr>\n",
       "      <th>52541</th>\n",
       "      <td>ddlovato</td>\n",
       "      <td>❤️❄️✈️ http://t.co/ixmB5lv17Z</td>\n",
       "      <td>NaN</td>\n",
       "      <td>2015-05-01 00:02:00</td>\n",
       "      <td>5.518910e+17</td>\n",
       "      <td>und</td>\n",
       "      <td>NaN</td>\n",
       "      <td>NaN</td>\n",
       "      <td>16193</td>\n",
       "      <td>10822</td>\n",
       "      <td>1.496304</td>\n",
       "    </tr>\n",
       "  </tbody>\n",
       "</table>\n",
       "<p>52542 rows × 11 columns</p>\n",
       "</div>"
      ],
      "text/plain": [
       "          author                                            content country  \\\n",
       "0      katyperry  Is history repeating itself...?#DONTNORMALIZEH...     NaN   \n",
       "1      katyperry  @barackobama Thank you for your incredible gra...     NaN   \n",
       "2      katyperry                Life goals. https://t.co/XIn1qKMKQl     NaN   \n",
       "3      katyperry            Me right now 🙏🏻 https://t.co/gW55C1wrwd     NaN   \n",
       "4      katyperry  SISTERS ARE DOIN' IT FOR THEMSELVES! 🙌🏻💪🏻❤️ ht...     NaN   \n",
       "...          ...                                                ...     ...   \n",
       "52537   ddlovato               Life couldn't be better right now. 😊     NaN   \n",
       "52538   ddlovato  First Monday back in action. I'd say 21.6 mile...     NaN   \n",
       "52539   ddlovato  Crime shows, buddy, snuggles = the perfect Sun...     NaN   \n",
       "52540   ddlovato                          ❄️ http://t.co/sHCFdPpGPa     NaN   \n",
       "52541   ddlovato                      ❤️❄️✈️ http://t.co/ixmB5lv17Z     NaN   \n",
       "\n",
       "                date_time            id language  latitude  longitude  \\\n",
       "0     2017-12-01 19:52:00  8.196330e+17       en       NaN        NaN   \n",
       "1     2017-11-01 08:38:00  8.191010e+17       en       NaN        NaN   \n",
       "2     2017-11-01 02:52:00  8.190140e+17       en       NaN        NaN   \n",
       "3     2017-11-01 02:44:00  8.190120e+17       en       NaN        NaN   \n",
       "4     2017-10-01 05:22:00  8.186890e+17       en       NaN        NaN   \n",
       "...                   ...           ...      ...       ...        ...   \n",
       "52537 2015-06-01 23:10:00  5.526030e+17       en       NaN        NaN   \n",
       "52538 2015-06-01 02:17:00  5.522880e+17       en       NaN        NaN   \n",
       "52539 2015-05-01 03:42:00  5.519470e+17       en       NaN        NaN   \n",
       "52540 2015-05-01 00:06:00  5.518920e+17      und       NaN        NaN   \n",
       "52541 2015-05-01 00:02:00  5.518910e+17      und       NaN        NaN   \n",
       "\n",
       "       number_of_likes  number_of_shares  likes_divby_shares  \n",
       "0                 7900              3472            2.275346  \n",
       "1                 3689              1380            2.673188  \n",
       "2                10341              2387            4.332216  \n",
       "3                10774              2458            4.383238  \n",
       "4                17620              4655            3.785177  \n",
       "...                ...               ...                 ...  \n",
       "52537            32799             23796            1.378341  \n",
       "52538            21709             12511            1.735193  \n",
       "52539            25269             15583            1.621575  \n",
       "52540            15985             10456            1.528787  \n",
       "52541            16193             10822            1.496304  \n",
       "\n",
       "[52542 rows x 11 columns]"
      ]
     },
     "execution_count": 125,
     "metadata": {},
     "output_type": "execute_result"
    }
   ],
   "source": [
    "twitter"
   ]
  },
  {
   "cell_type": "code",
   "execution_count": 128,
   "metadata": {},
   "outputs": [
    {
     "data": {
      "text/plain": [
       "9637.838338852727"
      ]
     },
     "execution_count": 128,
     "metadata": {},
     "output_type": "execute_result"
    }
   ],
   "source": [
    "# We can also compute the mean of variables with code like: \n",
    "\n",
    "twitter['number_of_likes'].mean()"
   ]
  },
  {
   "cell_type": "markdown",
   "metadata": {},
   "source": [
    "# Part 4: Functions\n"
   ]
  },
  {
   "cell_type": "code",
   "execution_count": 9,
   "metadata": {},
   "outputs": [],
   "source": [
    "twitter[\"length\"] = twitter[\"content\"].str.len()"
   ]
  },
  {
   "cell_type": "code",
   "execution_count": 14,
   "metadata": {},
   "outputs": [
    {
     "data": {
      "text/plain": [
       "283037494"
      ]
     },
     "execution_count": 14,
     "metadata": {},
     "output_type": "execute_result"
    }
   ],
   "source": [
    "sum(twitter[\"length\"])"
   ]
  },
  {
   "cell_type": "code",
   "execution_count": null,
   "metadata": {},
   "outputs": [],
   "source": []
  }
 ],
 "metadata": {
  "kernelspec": {
   "display_name": "Python 3 (ipykernel)",
   "language": "python",
   "name": "python3"
  },
  "language_info": {
   "codemirror_mode": {
    "name": "ipython",
    "version": 3
   },
   "file_extension": ".py",
   "mimetype": "text/x-python",
   "name": "python",
   "nbconvert_exporter": "python",
   "pygments_lexer": "ipython3",
   "version": "3.10.16"
  }
 },
 "nbformat": 4,
 "nbformat_minor": 4
}
